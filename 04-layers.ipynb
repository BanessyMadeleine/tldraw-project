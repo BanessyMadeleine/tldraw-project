{
 "cells": [
  {
   "cell_type": "markdown",
   "id": "6afeba13-eb70-47c4-a2b1-7b987782a7a9",
   "metadata": {},
   "source": [
    "---\n",
    "title: Layers\n",
    "date: 2023-12-1 \n",
    "authors:\n",
    "  - name: Sébastien Boisgérault\n",
    "    email: Sebastien.Boisgerault@minesparis.psl.eu\n",
    "    url: https://github.com/boisgera\n",
    "    affiliations:\n",
    "      - institution: Mines Paris - PSL University\n",
    "        department: Institut des Transformation Numériques (ITN)\n",
    "github: boisgera\n",
    "license: CC-BY-4.0\n",
    "open_access: true\n",
    "---"
   ]
  },
  {
   "cell_type": "markdown",
   "id": "08881845-8a6c-4dff-9877-ab61c5d6d41d",
   "metadata": {},
   "source": [
    "# Stack of Cards\n",
    "\n",
    "\n",
    "```{exercise}\n",
    "1. Create a set of filled rectangles with the following sequence of colors: black, violet, blue, orange green and red. \n",
    "2. If necessary, move the rectangles so that they overlap and you can see which one is on top of the other.\n",
    "3. Which one is at the back of the document? Which one is at the top?  \n",
    "```"
   ]
  },
  {
   "cell_type": "raw",
   "id": "a87ed483-5ebc-4ec0-bcb4-be243bd17706",
   "metadata": {},
   "source": [
    "En haut du fichier tldr : noir, en bas : rouge\n",
    "(\"geo\":\"rectangle\",\"color\":\"orange\")"
   ]
  },
  {
   "cell_type": "markdown",
   "id": "cdb53dff-710c-4543-94df-ad1530f70ec8",
   "metadata": {},
   "source": [
    "![Layers](images/layers.png)"
   ]
  },
  {
   "cell_type": "markdown",
   "id": "41908045-4a55-4965-b015-ff860fb94096",
   "metadata": {},
   "source": [
    "# The Index\n",
    " "
   ]
  },
  {
   "cell_type": "markdown",
   "id": "c06f49bf-8844-4c94-83c5-c4d6e6056c5b",
   "metadata": {},
   "source": [
    "```{exercise}\n",
    ":label: second\n",
    "1. List the colors of all the shapes in your document, in the order in which they appear. What can you say?\n",
    "2. In Python, edit your document to make the red rectangle appear *before* every other rectangle. \n",
    "Does this change the (relative) depth of this rectangle?\n",
    "3. List again the colors of all the shapes in your document and the corresponding *index*, a string which is an attribute of the shape.\n",
    "4. Compare the lexicographic order between these strings and their depth in the document. What can you say?\n",
    "```\n",
    "\n",
    "````{note} Lexicographic order\n",
    "\n",
    "   When Python strings are compared and sorted, by default the lexicographic order is used.\n",
    "\n",
    "   The lexicographic order generalizes the alphabetical order:\n",
    "\n",
    "   ```\n",
    "   >>> \"alpaca\" < \"guanaco\" < \"lama\" < \"vicuña\"\n",
    "   True\n",
    "   ```\n",
    "\n",
    "   When the first letters are identical, the shorter strings is sorted first:\n",
    "   ```\n",
    "   >>> \"a\" < \"alp\" < \"alpaca\"\n",
    "   True\n",
    "   ```\n",
    "\n",
    "   All uppercase letters come before lowercase letters:\n",
    "   \n",
    "   ```\n",
    "   >>> \"A\" < \"Z\" < \"a\" < \"z\"\n",
    "   ```\n",
    "\n",
    "   and therefore \n",
    "\n",
    "   ```\n",
    "   >>> \"Vicuña\" < \"alpaca\" < \"vicuña\"\n",
    "   True\n",
    "   ```\n",
    "\n",
    "   Digits are ordered \"naturally\":\n",
    "\n",
    "   ```\n",
    "   >>> \"0\" < \"1\" < \"2\" < \"3\" < \"4\" < \"5\" < \"6\" < \"7\" < \"8\" < \"9\"\n",
    "   True\n",
    "   ```\n",
    "\n",
    "   However, beware of the comparison of strings that represent numbers:\n",
    "\n",
    "   ```\n",
    "   >>> \"2\" < \"100\"\n",
    "   False\n",
    "   >>> sorted([\"2\", \"100\"])\n",
    "   ['100', '2']\n",
    "   ```\n",
    "\n",
    "   All digits come before letters:\n",
    "\n",
    "   ```\n",
    "   >>> \"0\" < \"1\" < \"9\" < \"A\" < \"B\" < \"Z\" < \"a\" < \"b\" < \"z\"\n",
    "   True\n",
    "   ```\n",
    "\n",
    "\n",
    "\n",
    "````"
   ]
  },
  {
   "cell_type": "code",
   "execution_count": 6,
   "id": "4087f173-a6d7-40ef-a451-01eb0498a4c0",
   "metadata": {},
   "outputs": [
    {
     "name": "stdout",
     "output_type": "stream",
     "text": [
      "['black', 'violet', 'light-blue', 'orange', 'light-green', 'red']\n",
      "{'red': 'a6', 'violet': 'a2', 'light-blue': 'a3', 'orange': 'a4', 'light-green': 'a5', 'black': 'a1'}\n"
     ]
    }
   ],
   "source": [
    "import json\n",
    "\n",
    "with open('docs/rectangles.tldr', mode='rt', encoding='utf-8') as text:\n",
    "    content = text.read()\n",
    "\n",
    "data = json.loads(content)\n",
    "\n",
    "#print(data['records'][6])\n",
    "\n",
    "#list of colors\n",
    "print([data['records'][i]['props']['color'] for i in range(6,12)])\n",
    "#it keeps the order in which we created the rectangles\n",
    "\n",
    "\n",
    "\n",
    "#moving red rectangle\n",
    "data['records'][6], data['records'][11] = data['records'][11], data['records'][6] \n",
    "#check on tldraw ?\n",
    "\n",
    "\n",
    "#saving the changes in new file\n",
    "with open('docs/rectangles_bis.tldr', 'w') as file:\n",
    "    json.dump(data, file)\n",
    "\n",
    "#listing new order\n",
    "new_colors_indexes = {data['records'][i]['props']['color']: data['records'][i]['index'] for i in range(6,12)}\n",
    "print(new_colors_indexes)\n",
    "\n"
   ]
  },
  {
   "cell_type": "markdown",
   "id": "7f9d2d1d-862c-437a-951a-babb3288e7b3",
   "metadata": {},
   "source": [
    "We see that reordering the rectangles in the document doesn't change their depth, but the lexicographic order of the 'index' attribute does: a shape with the 'lower' index in lexicographic order gets'deeper'(behind) on the document "
   ]
  },
  {
   "cell_type": "markdown",
   "id": "5541ef7f-67f5-48f9-8486-20bfa5b17109",
   "metadata": {},
   "source": [
    "# Fractional Indexing"
   ]
  },
  {
   "cell_type": "markdown",
   "id": "b2aa9801-d18f-4439-bebf-67c1fbe2e5fd",
   "metadata": {},
   "source": [
    "```{exercise}\n",
    "1. In the tldraw editor, insert a yellow rectangle into the document and use \"Actions/Send backward\" repeatedly to put it in a layer between the red and violet rectangles.\n",
    "2. Save this document and load it in Python.  Did the indices of the old rectangles change? \n",
    "3. What is the index of the new rectangle? Is this value consistent with the assumption you made in question 4 of [](#second)?\n",
    "```"
   ]
  },
  {
   "cell_type": "code",
   "execution_count": 19,
   "id": "966c575f-7d24-41cd-8ac1-b2092c0301b3",
   "metadata": {},
   "outputs": [
    {
     "name": "stdout",
     "output_type": "stream",
     "text": [
      "{'red': 'a6', 'violet': 'a2', 'light-blue': 'a3', 'orange': 'a4', 'light-green': 'a5', 'black': 'a1', 'yellow': 'a4V'}\n"
     ]
    }
   ],
   "source": [
    "import json\n",
    "\n",
    "with open('docs/rectangles_jaune.tldr', mode='rt', encoding='utf-8') as text:\n",
    "    content = text.read()\n",
    "\n",
    "data_jaune = json.loads(content)\n",
    "\n",
    "\n",
    "print({data_jaune['records'][i]['props']['color']: data_jaune['records'][i]['index'] for i in range(6,13)})"
   ]
  },
  {
   "cell_type": "markdown",
   "id": "d449ffbc-5477-4e2c-8858-7dfd2fdf6dd4",
   "metadata": {},
   "source": [
    "The index of the new rectangle is 'a4V', that is to say between violet and red in lexicographic order, which confirms our assumption "
   ]
  },
  {
   "cell_type": "markdown",
   "id": "14735fa1-8341-49a6-95ff-dff0882d38e0",
   "metadata": {},
   "source": [
    "![Yellow rectangle](images/add-yellow.png)"
   ]
  },
  {
   "cell_type": "markdown",
   "id": "2d9ac9b7-0771-4b4d-91ed-ac83d6e7bd77",
   "metadata": {},
   "source": [
    "Tldraw uses a technique called **fractional indexing** to generate new indices that fit between the existing ones.\n",
    "It is explained in details in the [Implementing Fractional Indexing](https://observablehq.com/@dgreensp/implementing-fractional-indexing) Observable (Javascript) notebook.\n",
    "\n",
    "The core idea of this method is to build a representation of indices as fractions in $\\left[0, 1\\right[$ which maps the\n",
    "lexicographic order into the the usual order on $\\mathbb{Q}$, \n",
    "then to solve the generation of intermediate indices in the fractional space since it's much easier there."
   ]
  },
  {
   "cell_type": "markdown",
   "id": "4ca6fd42-4078-4ef7-aee4-c299a0aa63fe",
   "metadata": {},
   "source": [
    "We associate to any string $\\mathtt{s}$ using only the 62 characters `\"0\"`, `\"1\"`, ... `\"9\"`, `\"A\"`, ... `\"Z\"`, `\"a\"`, ..., `\"z\"` as a fraction $\\mathcal{F}(\\mathtt{s}) \\in \\left[0, 1\\right[$ such that:\n",
    "\n",
    "$$\n",
    "\\mathcal{F}(\\mathtt{\"\"}) = 0\n",
    "$$\n",
    "\n",
    "$$\n",
    "\\mathcal{F}(\\mathtt{\"0\"}) = 0, \\; \\mathcal{F}(\\mathtt{\"1\"}) = \\frac{1}{62}, \\; \\dots\n",
    "$$\n",
    "\n",
    "$$\n",
    "\\mathcal{F}(\\mathtt{\"A\"}) = \\frac{10}{62}, \\; \\mathcal{F}(\\mathtt{\"B\"}) = \\frac{11}{62}, \\; \\dots\n",
    "$$\n",
    "$$\n",
    "\\mathcal{F}(\\mathtt{\"a\"}) = \\frac{36}{62}, \\; \\mathcal{F}(\\mathtt{\"b\"}) = \\frac{37}{62},\n",
    "\\; \\mathcal{F}(\\mathtt{\"z\"}) = \\frac{61}{62}.\n",
    "$$\n",
    "\n",
    "and for any character $\\mathtt{c}$ (i.e. string of length 1) and any string $\\mathtt{s}$,\n",
    "\n",
    "$$\n",
    "\\mathcal{F}(\\mathtt{c + s}) = \\mathcal{F}(\\mathtt{c}) + \\frac{\\mathcal{F}(\\mathtt{s})}{62}. \n",
    "$$\n",
    "\n",
    "For example:\n",
    "\n",
    "$$\n",
    "\\mathcal{F}(\\mathtt{\"abc\"})\n",
    "= \\frac{\\mathcal{F}(\\mathtt{\"a\"})}{62} + \\frac{\\mathcal{F}(\\mathtt{\"b\"})}{62^2} + \\frac{\\mathcal{F}(\\mathtt{\"c\"})}{62^3}\n",
    "= \\frac{36}{62} + \\frac{37}{62^2} + \\frac{38}{62^3}\n",
    "= \\frac{35179}{59582}\n",
    "$$\n",
    "    "
   ]
  },
  {
   "cell_type": "markdown",
   "id": "f787a69a-353c-4bcf-9189-38bc1d32ce2f",
   "metadata": {},
   "source": [
    "```{exercise}\n",
    "1. Assume that $\\mathcal{F}(\\mathtt{s1}) = \\mathcal{F}(\\mathtt{s2})$. What does this equality tell you about $\\mathtt{s1}$ and $\\mathtt{s2}$? \n",
    "2. Implement $\\mathcal{F}$ as `F` using the `fractions` module of the Python standard library.\n",
    "3. Make sure that all tests in the cell below pass.\n",
    "```"
   ]
  },
  {
   "cell_type": "markdown",
   "id": "1e4e149b-d9c2-435c-9db0-66c1d03a03af",
   "metadata": {},
   "source": [
    "1- s1 = s2"
   ]
  },
  {
   "cell_type": "code",
   "execution_count": 4,
   "id": "f8da5842-00a6-4c3b-b186-ebc4ad847048",
   "metadata": {},
   "outputs": [
    {
     "data": {
      "text/plain": [
       "97"
      ]
     },
     "execution_count": 4,
     "metadata": {},
     "output_type": "execute_result"
    }
   ],
   "source": [
    "ord('a')"
   ]
  },
  {
   "cell_type": "code",
   "execution_count": 11,
   "id": "c989ccab-5fce-4d4e-8c93-17c04c0ae915",
   "metadata": {},
   "outputs": [],
   "source": [
    "from fractions import Fraction\n",
    "\n",
    "ENABLE_TESTS = False # ℹ️ Set to True to test F whenever the cell is executed\n",
    "\n",
    "dico_symboles = {}\n",
    "for i in range(10):\n",
    "    dico_symboles[f\"{i}\"] = i\n",
    "for k in range(26):\n",
    "    dico_symboles[chr(65+k)] = 10 + k\n",
    "for j in range(26):\n",
    "    dico_symboles[chr(97+j)] = 10 + 26 + j\n",
    "\n",
    "#character_list = [chr(i) for i in range(48, 58)] + [chr(i) for i in range(65, 91)] + [chr(i) for i in range(97, 123)]\n",
    "\n",
    "\n",
    "def F(string):\n",
    "\n",
    "    '''    \n",
    "        >>> \n",
    "        True\n",
    "        >>> F(\"0\") == Fraction(0, 62)  # ⚠️ Trailing zero!\n",
    "        True\n",
    "        >>> \n",
    "        True\n",
    "        >>> F(\"1000\") == Fraction(1, 62)  # ⚠️ Trailing zeros!\n",
    "        True\n",
    "        >>> F(\"9\") == Fraction(9, 62)\n",
    "        True\n",
    "        >>> F(\"A\") == Fraction(10, 62)\n",
    "        True\n",
    "        >>> F(\"Z\") == Fraction(35, 62)\n",
    "        True\n",
    "        >>> F(\"a\") == Fraction(36, 62)\n",
    "        True\n",
    "        >>> F(\"z\") == Fraction(61, 62)\n",
    "        True\n",
    "        \n",
    "        >>> F(\"a1\") == F(\"a\") + F(\"1\") / 62\n",
    "        True\n",
    "        >>> F(\"a1\")\n",
    "        Fraction(2233, 3844)\n",
    "        >>> F(\"a2\") == F(\"a\") + F(\"2\") / 62\n",
    "        True\n",
    "        >>> F(\"a2\")\n",
    "        Fraction(1117, 1922)\n",
    "        >>> F(\"a3\") == F(\"a\") + F(\"3\") / 62\n",
    "        True\n",
    "        >>> F(\"a3\")\n",
    "        Fraction(2235, 3844)\n",
    "    \n",
    "        >>> F(\"abc\") == Fraction(35179, 59582)\n",
    "        True\n",
    "        >>> F(\"aardvark\") == Fraction(32218019837031, 54585026396224)\n",
    "        True\n",
    "        \n",
    "        pass # 🚧 TODO: implement this function\n",
    "    '''\n",
    "\n",
    "    somme = 0\n",
    "    for i in range(len(string)):\n",
    "        somme += Fraction(dico_symboles[string[i]], 62**(i+1))\n",
    "    return somme\n",
    "    \n",
    "if ENABLE_TESTS: \n",
    "    import doctest\n",
    "    doctest.run_docstring_examples(F, globals())\n"
   ]
  },
  {
   "cell_type": "markdown",
   "id": "6d92075e-3a67-48af-9e4f-afcfa443a131",
   "metadata": {},
   "source": [
    "```{exercise}\n",
    "1. Implement the inverse of the function $\\mathcal{F}$ (restricted to the strings with no trailing zeros) as a function `iF`.\n",
    "2. Make sure that all tests in the cell below pass.\n",
    "```"
   ]
  },
  {
   "cell_type": "code",
   "execution_count": 12,
   "id": "f51f104d-8625-4f0e-84c4-dcabad713c3b",
   "metadata": {},
   "outputs": [
    {
     "name": "stdout",
     "output_type": "stream",
     "text": [
      "{0: '0', 1: '1', 2: '2', 3: '3', 4: '4', 5: '5', 6: '6', 7: '7', 8: '8', 9: '9', 10: 'A', 11: 'B', 12: 'C', 13: 'D', 14: 'E', 15: 'F', 16: 'G', 17: 'H', 18: 'I', 19: 'J', 20: 'K', 21: 'L', 22: 'M', 23: 'N', 24: 'O', 25: 'P', 26: 'Q', 27: 'R', 28: 'S', 29: 'T', 30: 'U', 31: 'V', 32: 'W', 33: 'X', 34: 'Y', 35: 'Z', 36: 'a', 37: 'b', 38: 'c', 39: 'd', 40: 'e', 41: 'f', 42: 'g', 43: 'h', 44: 'i', 45: 'j', 46: 'k', 47: 'l', 48: 'm', 49: 'n', 50: 'o', 51: 'p', 52: 'q', 53: 'r', 54: 's', 55: 't', 56: 'u', 57: 'v', 58: 'w', 59: 'x', 60: 'y', 61: 'z'}\n"
     ]
    }
   ],
   "source": [
    "ENABLE_TESTS = False # ℹ️ Set to True to test F whenever the cell is executed\n",
    "\n",
    "inverse_dico = {value: key for key, value in dico_symboles.items()}\n",
    "print(inverse_dico)\n",
    "\n",
    "\n",
    "def iF(fraction):\n",
    "    \"\"\"\n",
    "    >>> iF(F(\"\")) == \"\"\n",
    "    True\n",
    "    >>> iF(F(\"1\")) == \"1\"\n",
    "    True\n",
    "    >>> iF(F(\"A\")) == \"A\"\n",
    "    True\n",
    "    >>> iF(F(\"a\")) == \"a\"\n",
    "    True\n",
    "    >>> iF(F(\"abc\")) == \"abc\"\n",
    "    True\n",
    "    >>> iF(F(\"aardvark\")) == \"aardvark\"\n",
    "    True\n",
    "    \n",
    "    pass # 🚧 TODO: implement this function\n",
    "    \"\"\"\n",
    "    char = \"\"\n",
    "    while fraction > 0:\n",
    "        # Multiply the fraction by 62 and get the integer part and remainder\n",
    "        fraction *= 62\n",
    "        integer_part = int(fraction)\n",
    "        remainder = fraction - integer_part\n",
    "\n",
    "        # Add the new char based on the integer_part\n",
    "        char += inverse_dico[integer_part]\n",
    "\n",
    "        # Update the fraction with the remainder\n",
    "        fraction = remainder\n",
    "\n",
    "    return char\n",
    "    \n",
    "   \n",
    "if ENABLE_TESTS: \n",
    "    import doctest\n",
    "    doctest.run_docstring_examples(iF, globals())"
   ]
  },
  {
   "cell_type": "code",
   "execution_count": 15,
   "id": "731a3a2e-15f7-4015-90cf-8963f255b4b5",
   "metadata": {},
   "outputs": [
    {
     "data": {
      "text/plain": [
       "'A'"
      ]
     },
     "execution_count": 15,
     "metadata": {},
     "output_type": "execute_result"
    }
   ],
   "source": [
    "iF(F(\"A\"))"
   ]
  },
  {
   "cell_type": "markdown",
   "id": "ce370018-0eb4-4797-b7c9-a06b373b988b",
   "metadata": {},
   "source": [
    "```{exercise}\n",
    "1. Prove that if the strings $\\mathtt{s1}$ and $\\mathtt{s2}$ have no trailing zeros (e.g. \"hello\" is ok but not \"hell0\"),\n",
    "then $\\mathtt{s1} \\leq \\mathtt{s2}$ (in the lexicographic order) if and only if $\\mathcal{F}(\\mathtt{s1}) \\leq \\mathcal{F}(\\mathtt{s2})$\n",
    "(in the usual order on $\\mathbb{Q}$).\n",
    "\n",
    "2. Show that for any valid index (with no trailing zero), the formula\n",
    "\n",
    "   $$\n",
    "   \\mathtt{index\\_3} \n",
    "   = \n",
    "   \\mathcal{F}^{-1}\n",
    "   \\left(\n",
    "     \\frac{\n",
    "       \\mathcal{F}(\\mathtt{index\\_1}) + \\mathcal{F}(\\mathtt{index\\_2})\n",
    "     }{2}\n",
    "   \\right)\n",
    "   $$\n",
    "\n",
    "   defines a valid index.\n",
    "\n",
    "3. How are (lexicographically) ordered the strings $\\mathtt{index\\_1}, \\mathtt{index\\_2}$ and $\\mathtt{index\\_3}$?\n",
    "\n",
    "4. Implement a function `index_between` based on this analysis. Make sure that all the tests in the cell below pass.\n",
    "```"
   ]
  },
  {
   "cell_type": "markdown",
   "id": "0781a100-1192-4fa1-b840-1f99c3e7567c",
   "metadata": {},
   "source": [
    "1. If $s_1 \\leq s_2 $:\n",
    "      - If $ s_1 == s_2 $, we have the result.\n",
    "      - Otherwise, this implies that there is an index $ i $ such that $ s_1[i] < s_2[i] $ and $ s_1[:i] == s_2[:i] $. \n",
    "        Then $ F(s_1) - F(s_2) = \\frac{{s_1[i] - s_2[i]}}{{62^{(i+1)}}} + \\varepsilon $, with $ \\varepsilon $ being strictly less than $ \\frac{1}{{62^{(i+1)}}} $.\n",
    "    So, $ F(s_1) < F(s_2) $ because the dominant term is negative.\n",
    "\n",
    "      If $ F(s_1) \\leq F(s_2) $:\n",
    "      - If $ F(s_1) == F(s_2) $, we have the result.\n",
    "      - Otherwise, $ F(s_1) < F(s_2) $, which means that the base-62 decompositions of $ s_1 $ and $ s_2 $ differ somewhere. \n",
    "        Let $ i $ be the index of the first difference. \n",
    "        We have $ F(s_1) - F(s_2) = \\frac{{s_1[i] - s_2[i]}}{{62^{(i+1)}}} + \\varepsilon < 0 $, \n",
    "        so regardless of $ \\varepsilon $ (which is strictly less than $ \\frac{1}{{62^{(i+1)}}} $), we have $ s_1 < s_2 $ because the dominant term has to be negative.\n",
    "\n",
    "\n",
    "2. $ F(\\text{index}_1) $ and $ F(\\text{index}_2) $ can be decomposed on the base-62, so is $ \\frac{{F(\\text{index}_1) + F(\\text{index}_2)}}{2} $ then. That means the image by $ F^{-1} $ of this fraction is a valid index.\n",
    "\n",
    "\n",
    "3. Let's consider that $ \\text{index}_1 \\leq \\text{index}_2 $. Given that $ F(\\text{index}_1) \\leq \\frac{{F(\\text{index}_1) + F(\\text{index}_2)}}{2} \\leq F(\\text{index}_2) $, we can apply $ F^{-1} $ (which is increasing) to have $ \\text{index}_1 \\leq \\text{index}_3 \\leq \\text{index}_2 $.\n",
    "\n"
   ]
  },
  {
   "cell_type": "code",
   "execution_count": 17,
   "id": "b3db2ca8-c99c-4961-82ed-a583e207bb8d",
   "metadata": {},
   "outputs": [],
   "source": [
    "ENABLE_TESTS = True # ℹ️ Set to True to test F whenever the cell is executed\n",
    "\n",
    "def index_between(index_1, index_2):\n",
    "    \"\"\"\n",
    "    >>> index_between(\"1\", \"2\")\n",
    "    '1V'\n",
    "    >>> index_between(\"a\", \"b\")\n",
    "    'aV'\n",
    "    >>> index_between(\"aardvark\", \"aardwolf\")\n",
    "    'aardwCohV'\n",
    "    \"\"\"\n",
    "    pass # 🚧 TODO: implement this function\n",
    "\n",
    "    return iF((F(index_1)+F(index_2))/2)\n",
    "    \n",
    "if ENABLE_TESTS:\n",
    "    import doctest\n",
    "    doctest.run_docstring_examples(index_between, globals())"
   ]
  },
  {
   "cell_type": "markdown",
   "id": "0cb2553f-6847-427d-8f63-9d805c76e524",
   "metadata": {},
   "source": [
    "# Application\n",
    "\n",
    "```{exercise}\n",
    "1. Go back to your tldraw editor and bring your yellow rectangle to front.\n",
    "2. Save the corresponding document and load it as a Python object.\n",
    "3. Use the `index_between` function to patch its depth so that it goes back between the black and violet rectangles.\n",
    "4. Save the document and reload it into the tldraw editor to check that it worked.\n",
    "```"
   ]
  },
  {
   "cell_type": "code",
   "execution_count": 22,
   "id": "0e991fce-8da8-43e3-b833-d309486e4ea1",
   "metadata": {},
   "outputs": [
    {
     "name": "stdout",
     "output_type": "stream",
     "text": [
      "{'light-blue': 'a3', 'orange': 'a4', 'red': 'a6', 'yellow': 'a7', 'light-green': 'a5', 'black': 'a1', 'violet': 'a2'}\n",
      "{'light-blue': 'a3', 'orange': 'a4', 'red': 'a6', 'yellow': 'a1V', 'light-green': 'a5', 'black': 'a1', 'violet': 'a2'}\n"
     ]
    }
   ],
   "source": [
    "with open('docs/rectangles_jaune_front.tldr', mode='rt', encoding='utf-8') as text:\n",
    "    content = text.read()\n",
    "data = json.loads(content)\n",
    "\n",
    "rectangles = {data['records'][i]['props']['color']: data['records'][i]['index'] for i in range(2,9)}\n",
    "data['records'][5]['index'] =  index_between(rectangles['black'], rectangles['violet'])\n",
    "print(rectangles)\n",
    "\n",
    "#saving the changes in new file\n",
    "with open('docs/rectangles_jaune_reorganized.tldr', 'w') as file:\n",
    "    json.dump(data, file)\n",
    "\n",
    "#checking new depths\n",
    "print({data['records'][i]['props']['color']: data['records'][i]['index'] for i in range(2,9)})"
   ]
  },
  {
   "cell_type": "markdown",
   "id": "5917af10-0dfc-45da-bcf6-8503395dca7c",
   "metadata": {},
   "source": [
    "\n",
    "![Add yellow on top](images/add-yellow-on-top.png)"
   ]
  }
 ],
 "metadata": {
  "kernelspec": {
   "display_name": "Python 3 (ipykernel)",
   "language": "python",
   "name": "python3"
  },
  "language_info": {
   "codemirror_mode": {
    "name": "ipython",
    "version": 3
   },
   "file_extension": ".py",
   "mimetype": "text/x-python",
   "name": "python",
   "nbconvert_exporter": "python",
   "pygments_lexer": "ipython3",
   "version": "3.12.0"
  }
 },
 "nbformat": 4,
 "nbformat_minor": 5
}
